{
  "nbformat": 4,
  "nbformat_minor": 0,
  "metadata": {
    "colab": {
      "name": "Episode6_bis.ipynb",
      "provenance": [],
      "collapsed_sections": [],
      "include_colab_link": true
    },
    "kernelspec": {
      "name": "python3",
      "display_name": "Python 3"
    }
  },
  "cells": [
    {
      "cell_type": "markdown",
      "metadata": {
        "id": "view-in-github",
        "colab_type": "text"
      },
      "source": [
        "<a href=\"https://colab.research.google.com/github/divyaurquijo/PYRAT/blob/main/Episode6_bis.ipynb\" target=\"_parent\"><img src=\"https://colab.research.google.com/assets/colab-badge.svg\" alt=\"Open In Colab\"/></a>"
      ]
    },
    {
      "cell_type": "markdown",
      "metadata": {
        "id": "2TuyPXbywCpq"
      },
      "source": [
        "<h1><b><center>How to use this file with PyRat?</center></b></h1>"
      ]
    },
    {
      "cell_type": "markdown",
      "metadata": {
        "id": "vGFn7-8SwIiR"
      },
      "source": [
        "Google Colab provides an efficient environment for writing codes collaboratively with your group. For us, teachers, it allows to come and see your advancement from time to time, and help you solve some bugs if needed.\n",
        "\n",
        "The PyRat software is a complex environment that takes as an input an AI file (as this file). It requires some resources as well as a few Python libraries, so we have installed it on a virtual machine for you.\n",
        "\n",
        "PyRat is a local program, and Google Colab is a distant tool. Therefore, we need to indicate the PyRat software where to get your code! In order to submit your program to PyRat, you should follow the following steps:\n",
        "\n",
        "1.   In this notebook, click on *Share* (top right corner of the navigator). Then, change sharing method to *Anyone with the link*, and copy the sharing link;\n",
        "2.   On the machine where the PyRat software is installed, start a terminal and navigate to your PyRat directory;\n",
        "3.   Run the command `python ./pyrat.py --rat \"<link>\" <options>`, where `<link>` is the share link copied in step 1. (put it between quotes), and `<options>` are other PyRat options you may need."
      ]
    },
    {
      "cell_type": "markdown",
      "metadata": {
        "id": "p9zlfF1iafqy"
      },
      "source": [
        "<h1><b><center>Pre-defined constants</center></b></h1>"
      ]
    },
    {
      "cell_type": "markdown",
      "metadata": {
        "id": "U7btUw_naI-R"
      },
      "source": [
        "A PyRat program should -- at each turn -- decide in which direction to move. This is done in the `turn` function later in this document, which should return one of the following constants:"
      ]
    },
    {
      "cell_type": "code",
      "metadata": {
        "id": "bnoalRWgaGxP"
      },
      "source": [
        "MOVE_DOWN = 'D'\n",
        "MOVE_LEFT = 'L'\n",
        "MOVE_RIGHT = 'R'\n",
        "MOVE_UP = 'U'"
      ],
      "execution_count": null,
      "outputs": []
    },
    {
      "cell_type": "markdown",
      "metadata": {
        "id": "tQF4Icesbar5"
      },
      "source": [
        "<h1><b><center>Your coding area</center></b></h1>"
      ]
    },
    {
      "cell_type": "markdown",
      "metadata": {
        "id": "dcKT5Itcbin1"
      },
      "source": [
        "Please put your functions, imports, constants, etc. between this text and the PyRat functions below. You can add as many code cells as you want, we just ask that you keep things organized (one function per cell, commented, etc.), so that it is easier for the teachers to help you debug your code!"
      ]
    },
    {
      "cell_type": "code",
      "metadata": {
        "id": "ghzFngwacFNa"
      },
      "source": [
        "import heapq\n",
        "import math\n",
        "\n",
        "def priority_queue () :\n",
        "    return []\n",
        "\n",
        "def is_empty (queue) :\n",
        "    return queue == priority_queue()\n",
        "\n",
        "def add_or_replace (queue, key, value) :\n",
        "    heapq.heappush(queue, (key, value))"
      ],
      "execution_count": null,
      "outputs": []
    },
    {
      "cell_type": "markdown",
      "metadata": {
        "id": "S16EOcgq8oRI"
      },
      "source": [
        ""
      ]
    },
    {
      "cell_type": "code",
      "metadata": {
        "id": "jXNoMpFhcFJu"
      },
      "source": [
        "def dijkstra(graph, start_vertex, target_location):\n",
        "    # initialize\n",
        "    min_heap = priority_queue()\n",
        "    add_or_replace(min_heap, 0, start_vertex)\n",
        "    visited_location = []\n",
        "    shortest_distances = {start_vertex: 0}\n",
        "    parent = {}\n",
        "\n",
        "    # algorithm loop\n",
        "    while not(is_empty(min_heap)):\n",
        "        distance, v = heapq.heappop(min_heap)\n",
        "        if v not in visited_location:\n",
        "            visited_location.append(v)\n",
        "            if v  == target_location:\n",
        "                break\n",
        "            for neighbor in graph[v]:\n",
        "                distance_through_v = distance + graph[v][neighbor]\n",
        "                distance_minimale = shortest_distances.get(neighbor)\n",
        "                if (distance_minimale is None or distance_through_v < distance_minimale):\n",
        "                    shortest_distances[neighbor] = distance_through_v\n",
        "                    parent[neighbor] = v\n",
        "                    add_or_replace(min_heap, distance_through_v, neighbor)\n",
        "    distance = shortest_distances.get(target_location)\n",
        "    locations = []\n",
        "    if distance is not None:\n",
        "        vertex = target_location\n",
        "        while vertex is not None:\n",
        "            locations = [vertex] + locations\n",
        "            vertex = parent.get(vertex)\n",
        "    return locations, distance"
      ],
      "execution_count": null,
      "outputs": []
    },
    {
      "cell_type": "code",
      "metadata": {
        "id": "T790_6kTcE9Q"
      },
      "source": [
        "def greedy (graph, initial_vertex, vertices_to_visit) :\n",
        "    # Greedy algorithm that goes to the score minimizer until all vertices are visited\n",
        "    best_path = [initial_vertex]\n",
        "    shortest_distance = math.inf\n",
        "    best = initial_vertex\n",
        "    source_vertex = initial_vertex\n",
        "    n = len(vertices_to_visit)\n",
        "    while len(best_path) != n+1:\n",
        "        for target_vertex in vertices_to_visit:\n",
        "            distance = dijkstra(graph, source_vertex, target_vertex)\n",
        "            if distance[1] < shortest_distance:\n",
        "                shortest_distance = distance[1]\n",
        "                best = target_vertex\n",
        "        source_vertex = best\n",
        "        best_path.append(best)\n",
        "        del vertices_to_visit[vertices_to_visit.index(best)]\n",
        "        shortest_distance = math.inf\n",
        "    return best_path"
      ],
      "execution_count": null,
      "outputs": []
    },
    {
      "cell_type": "code",
      "metadata": {
        "id": "HXVF-JGpE29R"
      },
      "source": [
        "def meta_graph_route_to_route (graph, best_path, start_vertex) :\n",
        "    locations = [start_vertex]\n",
        "    for i in range(len(best_path)-1):\n",
        "        cheese_1 = best_path[i]\n",
        "        cheese_2 = best_path[i+1]\n",
        "        route = dijkstra(graph, cheese_1, cheese_2)[0]\n",
        "        route.pop(0)\n",
        "        locations += route\n",
        "    return locations"
      ],
      "execution_count": null,
      "outputs": []
    },
    {
      "cell_type": "code",
      "metadata": {
        "id": "lPAMAzSGcHVh"
      },
      "source": [
        "def moves_from_locations(locations) :\n",
        "    # Transform a series of locations into corresponding moves to realize it\n",
        "    n = len(locations)\n",
        "    moves = []\n",
        "    for i in range(n-1):\n",
        "        difference = (locations[i+1][0]-locations[i][0],locations[i+1][1]-locations[i][1])\n",
        "        if difference == (0, -1) :\n",
        "            moves.append(MOVE_DOWN)\n",
        "        elif difference == (0, 1) :\n",
        "            moves.append(MOVE_UP)\n",
        "        elif difference == (1, 0) :\n",
        "            moves.append(MOVE_RIGHT)\n",
        "        elif difference == (-1, 0) :\n",
        "            moves.append(MOVE_LEFT)\n",
        "        else :\n",
        "            raise Exception(\"Impossible move\")\n",
        "    return moves"
      ],
      "execution_count": null,
      "outputs": []
    },
    {
      "cell_type": "markdown",
      "metadata": {
        "id": "EjL8BEixcF3j"
      },
      "source": [
        "<h1><b><center>PyRat functions</center></b></h1>"
      ]
    },
    {
      "cell_type": "markdown",
      "metadata": {
        "id": "T1L9f0UAcN0p"
      },
      "source": [
        "The `preprocessing` function is called at the very start of a game. It is attributed a longer time compared to `turn`, which allows you to perform intensive computations. If you store the results of these computations into **global** variables, you will be able to reuse them in the `turn` function.\n",
        "\n",
        "*Input:*\n",
        "*   `maze_map` -- **dict(pair(int, int), dict(pair(int, int), int))** -- The map of the maze where the game takes place. This structure associates each cell with the dictionry of its neighbors. In that dictionary of neighbors, keys are cell coordinates, and associated values the number of moves required to reach that neighbor. As an example, `list(maze_map[(0, 0)].keys())` returns the list of accessible cells from `(0, 0)`. Then, if for example `(0, 1)` belongs to that list, one can access the number of moves to go from `(0, 0)` to `(0, 1)` by the code `maze_map[(0, 0)][0, 1)]`.\n",
        "*   `maze_width` -- **int** -- The width of the maze, in number of cells.\n",
        "*   `maze_height` -- **int** -- The height of the maze, in number of cells.\n",
        "*   `player_location` -- **pair(int, int)** -- The initial location of your character in the maze.\n",
        "*   `opponent_location` -- **pair(int,int)** -- The initial location of your opponent's character in the maze.\n",
        "*   `pieces_of_cheese` -- **list(pair(int, int))** -- The initial location of all pieces of cheese in the maze.\n",
        "*   `time_allowed` -- **float** -- The time you can take for preprocessing before the game starts checking for moves.\n",
        "\n",
        "*Output:*\n",
        "*   This function does not output anything."
      ]
    },
    {
      "cell_type": "code",
      "metadata": {
        "id": "vFa29qLAcOUb"
      },
      "source": [
        "def preprocessing (maze_map, maze_width, maze_height, player_location, opponent_location, pieces_of_cheese, time_allowed) :\n",
        "    \n",
        "    global best_path\n",
        "    best_path = greedy(maze_map, player_location, pieces_of_cheese)\n",
        "    global locations\n",
        "    locations = meta_graph_route_to_route(maze_map, best_path, player_location)\n",
        "    global chemin\n",
        "    chemin = moves_from_locations(locations)\n",
        "\n",
        "    # Example prints that appear in the shell only at the beginning of the game\n",
        "    # Remove them when you write your own program\n",
        "    print(\"maze_map\", type(maze_map), maze_map)\n",
        "    print(\"maze_width\", type(maze_width), maze_width)\n",
        "    print(\"maze_height\", type(maze_height), maze_height)\n",
        "    print(\"player_location\", type(player_location), player_location)\n",
        "    print(\"opponent_location\", type(opponent_location), opponent_location)\n",
        "    print(\"pieces_of_cheese\", type(pieces_of_cheese), pieces_of_cheese)\n",
        "    print(\"time_allowed\", type(time_allowed), time_allowed)"
      ],
      "execution_count": null,
      "outputs": []
    },
    {
      "cell_type": "markdown",
      "metadata": {
        "id": "QRi94kuZaVcx"
      },
      "source": [
        "The `turn` function is called each time the game is waiting\n",
        "for the player to make a decision (*i.e.*, to return a move among those defined above).\n",
        "\n",
        "*Input:*\n",
        "*   `maze_map` -- **dict(pair(int, int), dict(pair(int, int), int))** -- The map of the maze. It is the same as in the `preprocessing` function, just given here again for convenience.\n",
        "*   `maze_width` -- **int** -- The width of the maze, in number of cells.\n",
        "*   `maze_height` -- **int** -- The height of the maze, in number of cells.\n",
        "*   `player_location` -- **pair(int, int)** -- The current location of your character in the maze.\n",
        "*   `opponent_location` -- **pair(int,int)** -- The current location of your opponent's character in the maze.\n",
        "*   `player_score` -- **float** -- Your current score.\n",
        "*   `opponent_score` -- **float** -- The opponent's current score.\n",
        "*   `pieces_of_cheese` -- **list(pair(int, int))** -- The location of remaining pieces of cheese in the maze.\n",
        "*   `time_allowed` -- **float** -- The time you can take to return a move to apply before another time starts automatically.\n",
        "\n",
        "*Output:*\n",
        "*   A chosen move among `MOVE_UP`, `MOVE_DOWN`, `MOVE_LEFT` or `MOVE_RIGHT`."
      ]
    },
    {
      "cell_type": "code",
      "metadata": {
        "id": "qjDcXkelaG05"
      },
      "source": [
        "def turn (maze_map, maze_width, maze_height, player_location, opponent_location, player_score, opponent_score, pieces_of_cheese, time_allowed) :\n",
        "    global chemin\n",
        "    if dijkstra(maze_map, opponent_location, best_path[0])[1] < dijkstra(maze_map, player_location, best_path[0])[1]:\n",
        "      best_path.pop(0)\n",
        "      locations = meta_graph_route_to_route(maze_map, best_path, player_location)\n",
        "      chemin = moves_from_locations(locations)\n",
        "    elif player_location in pieces_of_cheese:\n",
        "      best_path(0)\n",
        "\n",
        "    return chemin.pop(0)"
      ],
      "execution_count": null,
      "outputs": []
    }
  ]
}