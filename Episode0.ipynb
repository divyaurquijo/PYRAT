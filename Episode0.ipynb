{
  "nbformat": 4,
  "nbformat_minor": 0,
  "metadata": {
    "colab": {
      "name": "Episode0.ipynb",
      "provenance": [],
      "collapsed_sections": [],
      "include_colab_link": true
    },
    "kernelspec": {
      "name": "python3",
      "display_name": "Python 3"
    }
  },
  "cells": [
    {
      "cell_type": "markdown",
      "metadata": {
        "id": "view-in-github",
        "colab_type": "text"
      },
      "source": [
        "<a href=\"https://colab.research.google.com/github/divyaurquijo/PYRAT/blob/main/Episode0.ipynb\" target=\"_parent\"><img src=\"https://colab.research.google.com/assets/colab-badge.svg\" alt=\"Open In Colab\"/></a>"
      ]
    },
    {
      "cell_type": "markdown",
      "metadata": {
        "id": "2TuyPXbywCpq"
      },
      "source": [
        "<h1><b><center>How to use this file with PyRat?</center></b></h1>"
      ]
    },
    {
      "cell_type": "markdown",
      "metadata": {
        "id": "vGFn7-8SwIiR"
      },
      "source": [
        "Google Colab provides an efficient environment for writing codes collaboratively with your group. For us, teachers, it allows to come and see your advancement from time to time, and help you solve some bugs if needed.\n",
        "\n",
        "The PyRat software is a complex environment that takes as an input an AI file (as this file). It requires some resources as well as a few Python libraries, so we have installed it on a virtual machine for you.\n",
        "\n",
        "PyRat is a local program, and Google Colab is a distant tool. Therefore, we need to indicate the PyRat software where to get your code! In order to submit your program to PyRat, you should follow the following steps:\n",
        "\n",
        "1.   In this notebook, click on *Share* (top right corner of the navigator). Then, change sharing method to *Anyone with the link*, and copy the sharing link;\n",
        "2.   On the machine where the PyRat software is installed, start a terminal and navigate to your PyRat directory;\n",
        "3.   Run the command `python ./pyrat.py --rat \"<link>\" <options>`, where `<link>` is the share link copied in step 1. (put it between quotes), and `<options>` are other PyRat options you may need."
      ]
    },
    {
      "cell_type": "markdown",
      "metadata": {
        "id": "p9zlfF1iafqy"
      },
      "source": [
        "<h1><b><center>Pre-defined constants</center></b></h1>"
      ]
    },
    {
      "cell_type": "markdown",
      "metadata": {
        "id": "U7btUw_naI-R"
      },
      "source": [
        "A PyRat program should -- at each turn -- decide in which direction to move. This is done in the `turn` function later in this document, which should return one of the following constants:"
      ]
    },
    {
      "cell_type": "code",
      "metadata": {
        "id": "bnoalRWgaGxP"
      },
      "source": [
        "MOVE_DOWN = 'D'\n",
        "MOVE_LEFT = 'L'\n",
        "MOVE_RIGHT = 'R'\n",
        "MOVE_UP = 'U'"
      ],
      "execution_count": null,
      "outputs": []
    },
    {
      "cell_type": "markdown",
      "metadata": {
        "id": "tQF4Icesbar5"
      },
      "source": [
        "<h1><b><center>Your coding area</center></b></h1>"
      ]
    },
    {
      "cell_type": "markdown",
      "metadata": {
        "id": "dcKT5Itcbin1"
      },
      "source": [
        "Please put your functions, imports, constants, etc. between this text and the PyRat functions below. You can add as many code cells as you want, we just ask that you keep things organized (one function per cell, commented, etc.), so that it is easier for the teachers to help you debug your code!"
      ]
    },
    {
      "cell_type": "code",
      "metadata": {
        "id": "jXNoMpFhcFJu"
      },
      "source": [
        "import heapq\n",
        "\n",
        "def new_min_heap():\n",
        "  return []\n",
        "\n",
        "def add_or_replace(priority_queue, value, key):\n",
        "    n = len(priority_queue)\n",
        "    if n == 0:\n",
        "        heapq.heappush(priority_queue, (value, key))\n",
        "    else:       \n",
        "        for i in range(n):\n",
        "            if key == priority_queue[i][1]:            # on regarde si la key est déjà dans le min_heap pour chaque couple\n",
        "                if value < priority_queue[i][0]:   # On vérifie que la valeur est inférieure à celle du couple possédant la même clé\n",
        "                    priority_queue[i] = tuple([value, priority_queue[i][1]])\n",
        "            else:\n",
        "                heapq.heappush(priority_queue, (value, key))\n",
        "\n",
        "\n",
        "def remove(min_heap):\n",
        "    return heapq.heappop(min_heap) "
      ],
      "execution_count": null,
      "outputs": []
    },
    {
      "cell_type": "code",
      "metadata": {
        "id": "soOxltZdcFEa"
      },
      "source": [
        "def dijkstra(graph, start_vertex):\n",
        "    min_heap = new_min_heap()\n",
        "    add_or_replace(min_heap, 0, start_vertex)\n",
        "    distances = {}\n",
        "    for vertex in graph:\n",
        "        distances[vertex] = [float('inf'), None] # distance[vertex] = [distance pour y aller, point le plus proche dans le chemin\n",
        "    distances[start_vertex][0] = 0\n",
        "    while len(min_heap) > 0:\n",
        "        distance, vertex = remove(min_heap)\n",
        "        for neighbor in graph[vertex]:\n",
        "            distance_through_v = distance + graph[vertex][neighbor]\n",
        "            if distance_through_v < distances[neighbor][0]:\n",
        "                distances[neighbor][0] = distance_through_v\n",
        "                distances[neighbor][1] = vertex\n",
        "                add_or_replace(min_heap, distance_through_v, neighbor)\n",
        "    return distances"
      ],
      "execution_count": null,
      "outputs": []
    },
    {
      "cell_type": "code",
      "metadata": {
        "id": "ghzFngwacFNa"
      },
      "source": [
        "def build_meta_graph (graph, locations, start_vertex) :\n",
        "    complete_graph = {}                   # On crée un dictionnaire pour contenir le méta-graph\n",
        "    locations.insert(0, start_vertex)     # On insère en première position dans la liste des fromages la position du rat\n",
        "    for vertex in locations:              # On regarde pour chaque position de fromages + player_location\n",
        "        complete_graph[vertex] = {}       # On crée une clé pour chaque locations\n",
        "        for neighbor in locations:              # On regarde pour pour chaque vertex tous les autres vertices pour avoir un complete graph\n",
        "            if vertex != neighbor:    # On prend seulement ceux qui sont des fromages \n",
        "                complete_graph[vertex][neighbor] = dijkstra(graph, vertex)[neighbor][0]    # on ajoute la distance grâce à dijkstra\n",
        "    return complete_graph"
      ],
      "execution_count": null,
      "outputs": []
    },
    {
      "cell_type": "code",
      "metadata": {
        "id": "8uKBeMOI-eCP"
      },
      "source": [
        "import math\n",
        "\n",
        "def neighbors_not_explored(graph, current_vertex, explored_vertices):\n",
        "    unexplored_vertices = []\n",
        "    for vertex in graph[current_vertex]:\n",
        "        if vertex not in explored_vertices:\n",
        "          unexplored_vertices.append(vertex)\n",
        "    return unexplored_vertices\n",
        "    \n",
        "def tsp (graph, initial_vertex) :\n",
        "    shortest_distance = math.inf\n",
        "    best_path = []\n",
        "    def _tsp (current_vertex, current_length, unexplored_neighbors, routing_table) :\n",
        "        # Recursive implementation of the tree exploration\n",
        "        nonlocal shortest_distance\n",
        "        nonlocal best_path\n",
        "        if unexplored_neighbors == []:\n",
        "            if current_length < shortest_distance:\n",
        "                shortest_distance = current_length\n",
        "                best_path = routing_table\n",
        "        else:\n",
        "            for neighbor in unexplored_neighbors:\n",
        "                new_length = current_length + graph[current_vertex][neighbor][1]\n",
        "                if new_length < shortest_distance:\n",
        "                    _tsp(neighbor,new_length,neighbors_not_explored(graph,neighbor,routing_table),routing_table + [neighbor])\n",
        "\n",
        "  # Initial call\n",
        "    _tsp(initial_vertex, 0, neighbors_not_explored(graph, initial_vertex, []), [initial_vertex])\n",
        "    return best_path"
      ],
      "execution_count": null,
      "outputs": []
    },
    {
      "cell_type": "code",
      "metadata": {
        "id": "H2T8v2Pv-cR8"
      },
      "source": [
        "def find_route(graph, source_location, target_location):\n",
        "    distances = dijkstra(graph, source_location)\n",
        "    path = [target_location]\n",
        "    parent = distances[target_location][1]\n",
        "    while parent != None:\n",
        "        path.append(parent)\n",
        "        parent = distances[parent][1]\n",
        "    return path[::-1]"
      ],
      "execution_count": null,
      "outputs": []
    },
    {
      "cell_type": "code",
      "metadata": {
        "id": "XzIUUZTl-e8X"
      },
      "source": [
        "def meta_graph_route_to_route (graph, meilleur_chemin, start_vertex) :\n",
        "    locations = [start_vertex]\n",
        "    for i in range(len(meilleur_chemin)-1):\n",
        "        fromage_1 = meilleur_chemin[i]\n",
        "        fromage_2 = meilleur_chemin[i+1]\n",
        "        route = find_route(graph, fromage_1, fromage_2)\n",
        "        route.pop(0)\n",
        "        locations += route\n",
        "    return locations"
      ],
      "execution_count": null,
      "outputs": []
    },
    {
      "cell_type": "code",
      "metadata": {
        "id": "vOl6_sLm-g-N"
      },
      "source": [
        "def move_from_locations (source_location, target_location) : \n",
        "    difference = (target_location[0] - source_location[0], target_location[1] - source_location[1])\n",
        "    if difference == (0, -1) :\n",
        "        return MOVE_DOWN\n",
        "    elif difference == (0, 1) :\n",
        "        return MOVE_UP\n",
        "    elif difference == (1, 0) :\n",
        "        return MOVE_RIGHT\n",
        "    elif difference == (-1, 0) :\n",
        "        return MOVE_LEFT\n",
        "    else :\n",
        "        raise Exception(\"Impossible move\")"
      ],
      "execution_count": null,
      "outputs": []
    },
    {
      "cell_type": "code",
      "metadata": {
        "id": "T790_6kTcE9Q"
      },
      "source": [
        "def moves_from_locations (locations) :\n",
        "    moves = []\n",
        "    n = len(locations)\n",
        "    for i in range(n-1):\n",
        "        moves.append(move_from_locations(locations[i], locations[i+1]))\n",
        "    return moves"
      ],
      "execution_count": null,
      "outputs": []
    },
    {
      "cell_type": "markdown",
      "metadata": {
        "id": "EjL8BEixcF3j"
      },
      "source": [
        "<h1><b><center>PyRat functions</center></b></h1>"
      ]
    },
    {
      "cell_type": "markdown",
      "metadata": {
        "id": "T1L9f0UAcN0p"
      },
      "source": [
        "The `preprocessing` function is called at the very start of a game. It is attributed a longer time compared to `turn`, which allows you to perform intensive computations. If you store the results of these computations into **global** variables, you will be able to reuse them in the `turn` function.\n",
        "\n",
        "*Input:*\n",
        "*   `maze_map` -- **dict(pair(int, int), dict(pair(int, int), int))** -- The map of the maze where the game takes place. This structure associates each cell with the dictionry of its neighbors. In that dictionary of neighbors, keys are cell coordinates, and associated values the number of moves required to reach that neighbor. As an example, `list(maze_map[(0, 0)].keys())` returns the list of accessible cells from `(0, 0)`. Then, if for example `(0, 1)` belongs to that list, one can access the number of moves to go from `(0, 0)` to `(0, 1)` by the code `maze_map[(0, 0)][0, 1)]`.\n",
        "*   `maze_width` -- **int** -- The width of the maze, in number of cells.\n",
        "*   `maze_height` -- **int** -- The height of the maze, in number of cells.\n",
        "*   `player_location` -- **pair(int, int)** -- The initial location of your character in the maze.\n",
        "*   `opponent_location` -- **pair(int,int)** -- The initial location of your opponent's character in the maze.\n",
        "*   `pieces_of_cheese` -- **list(pair(int, int))** -- The initial location of all pieces of cheese in the maze.\n",
        "*   `time_allowed` -- **float** -- The time you can take for preprocessing before the game starts checking for moves.\n",
        "\n",
        "*Output:*\n",
        "*   This function does not output anything."
      ]
    },
    {
      "cell_type": "code",
      "metadata": {
        "id": "vFa29qLAcOUb"
      },
      "source": [
        "def preprocessing (maze_map, maze_width, maze_height, player_location, opponent_location, pieces_of_cheese, time_allowed) :\n",
        "    \n",
        "    global moves\n",
        "    \n",
        "    meta_graph = build_meta_graph (maze_map, pieces_of_cheese, player_location)\n",
        "    \n",
        "    meta_graph_route = tsp(meta_graph, player_location)\n",
        "    \n",
        "    route = meta_graph_route_to_route (maze_map, meta_graph_route, player_location)\n",
        "    \n",
        "    moves = moves_from_locations(route)\n",
        "    \n",
        "  \n",
        "    # Example prints that appear in the shell only at the beginning of the game\n",
        "    # Remove them when you write your own program\n",
        "    print(\"maze_map\", type(maze_map), maze_map)\n",
        "    print(\"maze_width\", type(maze_width), maze_width)\n",
        "    print(\"maze_height\", type(maze_height), maze_height)\n",
        "    print(\"player_location\", type(player_location), player_location)\n",
        "    print(\"opponent_location\", type(opponent_location), opponent_location)\n",
        "    print(\"pieces_of_cheese\", type(pieces_of_cheese), pieces_of_cheese)\n",
        "    print(\"time_allowed\", type(time_allowed), time_allowed)"
      ],
      "execution_count": null,
      "outputs": []
    },
    {
      "cell_type": "code",
      "metadata": {
        "id": "exF8EJ7E-hzP"
      },
      "source": [
        ""
      ],
      "execution_count": null,
      "outputs": []
    },
    {
      "cell_type": "markdown",
      "metadata": {
        "id": "QRi94kuZaVcx"
      },
      "source": [
        "The `turn` function is called each time the game is waiting\n",
        "for the player to make a decision (*i.e.*, to return a move among those defined above).\n",
        "\n",
        "*Input:*\n",
        "*   `maze_map` -- **dict(pair(int, int), dict(pair(int, int), int))** -- The map of the maze. It is the same as in the `preprocessing` function, just given here again for convenience.\n",
        "*   `maze_width` -- **int** -- The width of the maze, in number of cells.\n",
        "*   `maze_height` -- **int** -- The height of the maze, in number of cells.\n",
        "*   `player_location` -- **pair(int, int)** -- The current location of your character in the maze.\n",
        "*   `opponent_location` -- **pair(int,int)** -- The current location of your opponent's character in the maze.\n",
        "*   `player_score` -- **float** -- Your current score.\n",
        "*   `opponent_score` -- **float** -- The opponent's current score.\n",
        "*   `pieces_of_cheese` -- **list(pair(int, int))** -- The location of remaining pieces of cheese in the maze.\n",
        "*   `time_allowed` -- **float** -- The time you can take to return a move to apply before another time starts automatically.\n",
        "\n",
        "*Output:*\n",
        "*   A chosen move among `MOVE_UP`, `MOVE_DOWN`, `MOVE_LEFT` or `MOVE_RIGHT`."
      ]
    },
    {
      "cell_type": "code",
      "metadata": {
        "id": "qjDcXkelaG05"
      },
      "source": [
        "def turn (maze_map, maze_width, maze_height, player_location, opponent_location, player_score, opponent_score, pieces_of_cheese, time_allowed) :\n",
        "    \n",
        "    # We go up at every turn\n",
        "    # You should replace this with more intelligent decisions\n",
        "    return moves.pop(0) "
      ],
      "execution_count": null,
      "outputs": []
    }
  ]
}